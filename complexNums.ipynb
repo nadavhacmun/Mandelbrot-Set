{
 "cells": [
  {
   "cell_type": "markdown",
   "metadata": {},
   "source": [
    "# This notebook creates an image of the mandelbrot set\n",
    "___"
   ]
  },
  {
   "cell_type": "markdown",
   "metadata": {},
   "source": [
    "* video talking about the mandelbrot set by vsauce - https://www.youtube.com/watch?v=MwjsO6aniig <br>"
   ]
  },
  {
   "cell_type": "markdown",
   "metadata": {},
   "source": [
    "![](./Images/test500.png)"
   ]
  },
  {
   "cell_type": "code",
   "execution_count": 1,
   "metadata": {},
   "outputs": [],
   "source": [
    "import numpy as np\n",
    "import matplotlib\n",
    "import matplotlib.pyplot as plt"
   ]
  },
  {
   "cell_type": "markdown",
   "metadata": {},
   "source": [
    "## Defining class to represent complex numbers\n",
    "Field variables: <br>\n",
    "  * real - the real part of the complex number <br>\n",
    "  * i    - the imaginary part of the complex number <br>\n",
    "    \n",
    "Class functions: <br>\n",
    "  * add - adds another complex number to this number<br>\n",
    "  * mul - multiplies this complex number by another complex number<br>\n",
    "  * mag - returns the magnitude of the complex number (distance from origin)<br>"
   ]
  },
  {
   "cell_type": "code",
   "execution_count": 2,
   "metadata": {},
   "outputs": [],
   "source": [
    "class Complex():\n",
    "    def __init__(self, Real, i):\n",
    "        \n",
    "        self.real = Real\n",
    "        self.i = i\n",
    "        \n",
    "    def add(self, num):\n",
    "        self.real += num.real\n",
    "        self.i += num.i\n",
    "            \n",
    "    def mul(self, num):\n",
    "        real = (self.real * num.real) - (self.i * num.i)\n",
    "        i = (self.real * num.i) + (self.i * num.real)\n",
    "        self.real = real\n",
    "        self.i = i\n",
    "        \n",
    "    def mag(self):\n",
    "        return np.sqrt((self.i**2) + (self.real**2))"
   ]
  },
  {
   "cell_type": "code",
   "execution_count": 3,
   "metadata": {},
   "outputs": [],
   "source": [
    "# helper functions\n",
    "\n",
    "def saveImage(name, array, c=None):\n",
    "    matplotlib.image.imsave(name + \".png\", array, cmap=c)\n",
    "    \n",
    "def readImage(path):\n",
    "    return plt.imread(path)"
   ]
  },
  {
   "cell_type": "markdown",
   "metadata": {},
   "source": [
    "## Defining the function that generates the mandelbrot image"
   ]
  },
  {
   "cell_type": "markdown",
   "metadata": {},
   "source": [
    "The idea here is to take a region of the complex plane where the mandelbrot set is present and make a grid covering it, then for every pixel in the grid check if it is a member of the mandelbrot set. <br>\n",
    "To know how to check if a number is a member of the mandelbrot set visit - https://math.stackexchange.com/questions/558138/simplest-way-to-determine-if-a-number-is-a-member-of-the-mandelbrot-set <br>\n",
    "\n",
    "arguments:\n",
    "  * im_lower - lower imaginary bound\n",
    "  * im_higher - higher imaginary bound\n",
    "  * real_lower - lower real bound\n",
    "  * real_higher - higher real bound\n",
    "  * real_pixels - amount of pixels across real axis\n",
    "  * im_pixels - amount of pixels across imaginary axis\n",
    "  * maxiter - max amount of iterations to check if a number is a member of the set\n",
    "  * plot - wether or not to plot the image when done\n",
    " \n",
    "returns:\n",
    "  * the image of the mandelbrot set"
   ]
  },
  {
   "cell_type": "code",
   "execution_count": 4,
   "metadata": {},
   "outputs": [],
   "source": [
    "def makeMandelbrot(im_lower, im_higher, real_lower, real_higher, real_pixels, im_pixels, maxiter, plot=False):\n",
    "\n",
    "    real_points = np.linspace(real_lower, real_higher, real_pixels) # taking equally spaced points across real axis\n",
    "    im_points = np.linspace(im_lower, im_higher, im_pixels) # taking equally spaced points across imaginary axis\n",
    "    \n",
    "    arr = np.ndarray((len(real_points), len(im_points)), dtype=list) # making array representing complex plane dots (i.e numbers)\n",
    "    img = np.zeros((len(real_points), len(im_points))) # making the image\n",
    "    \n",
    "    for index1, i in enumerate(real_points):\n",
    "        for index2, j in enumerate(im_points):\n",
    "            arr[index1][index2] = [i, j] # filling arr with coordinates of complex numbers\n",
    "    \n",
    "    for index1, row in enumerate(arr):\n",
    "        for index2, num in enumerate(row):\n",
    "            z = Complex(arr[index1][index2][0], arr[index1][index2][1]) # initializing the complex number cooresponding with the spot on the image\n",
    "            start_num = Complex(0, 0) \n",
    "            for i in range(maxiter):\n",
    "                start_num.mul(start_num)\n",
    "                start_num.add(z)\n",
    "                if start_num.mag() > 2:\n",
    "                    img[index1][index2] = 255\n",
    "                    break\n",
    "                    \n",
    "    if plot:\n",
    "        plt.imshow(img, cmap='gray')\n",
    "                    \n",
    "    return img\n",
    "    "
   ]
  },
  {
   "cell_type": "markdown",
   "metadata": {},
   "source": [
    "## Defining easier to use function\n",
    "\n",
    "* boundries of the mandelbrot set already built in and don't have to be specified\n",
    "* automatically adjusts amount of pixels to keep the aspect ratio of the image \n",
    "\n",
    "arguments:\n",
    "  * pixels - amount of pixels across real axis, amount of pixels on imaginary axis are adjusted to keep aspect ratio \n",
    "  * iters - amount of iterations while checking if the number is a member of the set\n",
    "  \n",
    "returns:\n",
    "  * Image of mandelbrot set"
   ]
  },
  {
   "cell_type": "code",
   "execution_count": 32,
   "metadata": {},
   "outputs": [],
   "source": [
    "def EasyMandelbrot(pixels, iters=75):\n",
    "    return makeMandelbrot(-1, 1, -2, 0.6, pixels, int(0.76*pixels), iters, True)"
   ]
  },
  {
   "cell_type": "markdown",
   "metadata": {},
   "source": [
    "## Generating images of the mandelbrot set\n",
    "___"
   ]
  },
  {
   "cell_type": "code",
   "execution_count": 37,
   "metadata": {},
   "outputs": [
    {
     "data": {
      "image/png": "[encoded data removed]",
      "text/plain": [
       "<Figure size 432x288 with 1 Axes>"
      ]
     },
     "metadata": {},
     "output_type": "display_data"
    },
    {
     "data": {
      "image/png": "[encoded data removed]",
      "text/plain": [
       "<Figure size 1200x1200 with 1 Axes>"
      ]
     },
     "metadata": {},
     "output_type": "display_data"
    }
   ],
   "source": [
    "img = EasyMandelbrot(500, 50) # calling EasyMandelbrot with 500 pixels and 50 iterations\n",
    "plt.figure(num=None, figsize=(15, 15), dpi=80, facecolor='w', edgecolor='k') \n",
    "plt.imshow(img, cmap='gray') # potting the image\n",
    "\n",
    "saveImage(\"test500\", img, c=\"gray\") # saving image"
   ]
  }
 ],
 "metadata": {
  "kernelspec": {
   "display_name": "Python [conda env:dlnd]",
   "language": "python",
   "name": "conda-env-dlnd-py"
  },
  "language_info": {
   "codemirror_mode": {
    "name": "ipython",
    "version": 3
   },
   "file_extension": ".py",
   "mimetype": "text/x-python",
   "name": "python",
   "nbconvert_exporter": "python",
   "pygments_lexer": "ipython3",
   "version": "3.6.6"
  }
 },
 "nbformat": 4,
 "nbformat_minor": 2
}
